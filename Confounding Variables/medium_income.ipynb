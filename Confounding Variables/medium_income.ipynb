{
 "cells": [
  {
   "cell_type": "code",
   "execution_count": 4,
   "metadata": {},
   "outputs": [
    {
     "name": "stdout",
     "output_type": "stream",
     "text": [
      "            State & Year  Income\n",
      "0         Alabama , 1990   47100\n",
      "1           Alaska, 1990   82700\n",
      "2         Arizona , 1990   55000\n",
      "3         Arkansas, 1990   42200\n",
      "4       California, 1990   71500\n",
      "..                   ...     ...\n",
      "505      Virginia , 2019   76500\n",
      "506     Washington, 2019   78700\n",
      "507  West Virginia, 2019   48900\n",
      "508     Wisconsin , 2019   64200\n",
      "509       Wyoming , 2019   65000\n",
      "\n",
      "[510 rows x 2 columns]\n"
     ]
    }
   ],
   "source": [
    "import pandas as pd\n",
    "\n",
    "# Step 1: Load the Excel file\n",
    "file_path = 'Annual median household income.xlsx'\n",
    "income_data = pd.read_excel(file_path)  # Skipping the first two rows that contain metadata\n",
    "\n",
    "\n",
    "# Step 3: Melt the dataframe to transform year columns into rows\n",
    "# Assuming the first column is 'State' and the rest are year columns\n",
    "melted_data = pd.melt(income_data, id_vars=['State'], var_name='Year', value_name='Income')\n",
    "\n",
    "# Step 4: Create 'State & Year' column\n",
    "melted_data['State & Year'] = melted_data['State'] + ', ' + melted_data['Year'].astype(str)\n",
    "\n",
    "# Drop the original 'State' and 'Year' columns as they are now combined\n",
    "final_data = melted_data.drop(columns=['State', 'Year'])\n",
    "\n",
    "# Rearrange columns to place 'State & Year' at the beginning\n",
    "final_data = final_data[['State & Year', 'Income']]\n",
    "\n",
    "# Display the transformed DataFrame\n",
    "print(final_data)\n",
    "\n",
    "# Save the final DataFrame to an Excel file\n",
    "final_data.to_excel('medium_income_data_1990_2019.xlsx', index=False)\n"
   ]
  }
 ],
 "metadata": {
  "kernelspec": {
   "display_name": "Python 3",
   "language": "python",
   "name": "python3"
  },
  "language_info": {
   "codemirror_mode": {
    "name": "ipython",
    "version": 3
   },
   "file_extension": ".py",
   "mimetype": "text/x-python",
   "name": "python",
   "nbconvert_exporter": "python",
   "pygments_lexer": "ipython3",
   "version": "3.11.4"
  }
 },
 "nbformat": 4,
 "nbformat_minor": 2
}
